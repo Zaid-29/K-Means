{
 "cells": [
  {
   "cell_type": "code",
   "execution_count": 32,
   "metadata": {},
   "outputs": [],
   "source": [
    "import pandas as pd\n",
    "import numpy as np\n",
    "import matplotlib.pyplot as plt\n",
    "from sklearn.cluster import KMeans"
   ]
  },
  {
   "cell_type": "code",
   "execution_count": 33,
   "metadata": {},
   "outputs": [
    {
     "data": {
      "text/plain": [
       "array([[0.84675254, 0.43937426],\n",
       "       [0.70528927, 0.73713363],\n",
       "       [0.44780247, 0.72629126],\n",
       "       [0.37177677, 0.05452034],\n",
       "       [0.5993557 , 0.63295545],\n",
       "       [0.89494127, 0.31592835],\n",
       "       [0.5661073 , 0.16995848],\n",
       "       [0.17853913, 0.69629189],\n",
       "       [0.35151466, 0.99030742],\n",
       "       [0.97670746, 0.88820717],\n",
       "       [0.32550979, 0.8642507 ],\n",
       "       [0.09969231, 0.63842789],\n",
       "       [0.5927806 , 0.59058773],\n",
       "       [0.54132055, 0.33036493],\n",
       "       [0.62394805, 0.72253467],\n",
       "       [0.30152037, 0.18770937],\n",
       "       [0.06806056, 0.7907681 ],\n",
       "       [0.80542764, 0.64865465],\n",
       "       [0.94164934, 0.40884155],\n",
       "       [0.44655452, 0.21225071],\n",
       "       [0.76504651, 0.9462314 ],\n",
       "       [0.87262576, 0.1391905 ],\n",
       "       [0.1434479 , 0.31547667],\n",
       "       [0.52776503, 0.49667182],\n",
       "       [0.52341525, 0.53310643],\n",
       "       [0.46145869, 0.8952937 ],\n",
       "       [0.73905473, 0.41642525],\n",
       "       [0.86783605, 0.12161692],\n",
       "       [0.62483771, 0.08993057],\n",
       "       [0.09559159, 0.24426691],\n",
       "       [0.60121622, 0.79938178],\n",
       "       [0.22846828, 0.9104054 ],\n",
       "       [0.86155924, 0.51543545],\n",
       "       [0.11693769, 0.85866022],\n",
       "       [0.27851625, 0.82220392],\n",
       "       [0.73076756, 0.57770445],\n",
       "       [0.36993078, 0.79972334],\n",
       "       [0.09495174, 0.91417198],\n",
       "       [0.9909353 , 0.30809879],\n",
       "       [0.52651469, 0.28535024],\n",
       "       [0.24867969, 0.29893078],\n",
       "       [0.84419025, 0.47201553],\n",
       "       [0.7652602 , 0.64402349],\n",
       "       [0.88604733, 0.03323564],\n",
       "       [0.11086813, 0.04904789],\n",
       "       [0.79634055, 0.03263916],\n",
       "       [0.54480164, 0.7803733 ],\n",
       "       [0.84708952, 0.52392742],\n",
       "       [0.24344756, 0.83389351],\n",
       "       [0.96810538, 0.60310592],\n",
       "       [0.83190708, 0.50795796],\n",
       "       [0.66068665, 0.4825754 ],\n",
       "       [0.79179238, 0.30696439],\n",
       "       [0.50631277, 0.65627153],\n",
       "       [0.3708027 , 0.62879477],\n",
       "       [0.90300302, 0.61470905],\n",
       "       [0.59319339, 0.83180257],\n",
       "       [0.34567906, 0.57893737],\n",
       "       [0.72405334, 0.84742801],\n",
       "       [0.03763253, 0.23688334],\n",
       "       [0.26165265, 0.39518321],\n",
       "       [0.69330004, 0.15944979],\n",
       "       [0.62711866, 0.15184266],\n",
       "       [0.65786995, 0.26026627],\n",
       "       [0.54429015, 0.27904171],\n",
       "       [0.74912698, 0.69708222],\n",
       "       [0.4236424 , 0.08926935],\n",
       "       [0.46371215, 0.89582941],\n",
       "       [0.35949892, 0.98724882],\n",
       "       [0.59999994, 0.16780896],\n",
       "       [0.38509267, 0.20055094],\n",
       "       [0.86791201, 0.9631908 ],\n",
       "       [0.66843973, 0.93645348],\n",
       "       [0.51000643, 0.93009488],\n",
       "       [0.43480706, 0.21096781],\n",
       "       [0.30476851, 0.25296931],\n",
       "       [0.64858755, 0.80265919],\n",
       "       [0.38474675, 0.62147103],\n",
       "       [0.26800735, 0.59253522],\n",
       "       [0.86442677, 0.92767127],\n",
       "       [0.15155961, 0.94989653],\n",
       "       [0.79830175, 0.54896241],\n",
       "       [0.93255104, 0.26726508],\n",
       "       [0.65957943, 0.73866078],\n",
       "       [0.45386924, 0.49580774],\n",
       "       [0.456575  , 0.31405221],\n",
       "       [0.13054302, 0.49215428],\n",
       "       [0.18453858, 0.58501526],\n",
       "       [0.56456468, 0.11042191],\n",
       "       [0.14362683, 0.4475062 ],\n",
       "       [0.33388699, 0.2403371 ],\n",
       "       [0.85946984, 0.1608434 ],\n",
       "       [0.67663751, 0.10962305],\n",
       "       [0.42470237, 0.72763587],\n",
       "       [0.86089262, 0.76522963],\n",
       "       [0.75458442, 0.62666928],\n",
       "       [0.93582538, 0.44621861],\n",
       "       [0.51677055, 0.88411646],\n",
       "       [0.04260285, 0.78049155],\n",
       "       [0.69217364, 0.76834255]])"
      ]
     },
     "execution_count": 33,
     "metadata": {},
     "output_type": "execute_result"
    }
   ],
   "source": [
    "np.random.rand(100,2)"
   ]
  },
  {
   "cell_type": "code",
   "execution_count": 34,
   "metadata": {},
   "outputs": [
    {
     "data": {
      "text/plain": [
       "array([[-1.07313622, -1.28166297],\n",
       "       [-1.02141917, -0.62360356],\n",
       "       [-1.11897678, -1.09539535],\n",
       "       [-1.50621342, -0.66671842],\n",
       "       [-1.93577318, -1.15774501],\n",
       "       [-1.24108841, -0.57215788],\n",
       "       [-1.5247611 , -0.96384939],\n",
       "       [-0.42116712, -1.61426739],\n",
       "       [-0.08415861, -0.12006746],\n",
       "       [-1.117578  , -1.74529104]])"
      ]
     },
     "execution_count": 34,
     "metadata": {},
     "output_type": "execute_result"
    }
   ],
   "source": [
    "#Create an array of the given shape and \n",
    "#populate it with random samples from a uniform distribution over [0, 1).\n",
    "\n",
    "X = -2 * np.random.rand(100,2)\n",
    "X[:10]"
   ]
  },
  {
   "cell_type": "code",
   "execution_count": 35,
   "metadata": {},
   "outputs": [
    {
     "data": {
      "text/plain": [
       "array([[1.14031442, 1.55603528],\n",
       "       [1.43556937, 1.54588728],\n",
       "       [1.28825994, 1.53371329],\n",
       "       [2.32885133, 1.95851688],\n",
       "       [1.15713053, 1.03730528],\n",
       "       [2.09472597, 2.44538114],\n",
       "       [1.94371391, 2.20083032],\n",
       "       [2.81037907, 1.92806882],\n",
       "       [1.00052314, 1.4451973 ],\n",
       "       [1.92234724, 1.20363126]])"
      ]
     },
     "execution_count": 35,
     "metadata": {},
     "output_type": "execute_result"
    }
   ],
   "source": [
    "\n",
    "X1 = 1 + 2 * np.random.rand(50,2)\n",
    "X1[:10]"
   ]
  },
  {
   "cell_type": "code",
   "execution_count": 36,
   "metadata": {},
   "outputs": [],
   "source": [
    "X[50:100, :] = X1 #copying the values of X1 in to 2nd half of X"
   ]
  },
  {
   "cell_type": "code",
   "execution_count": 37,
   "metadata": {},
   "outputs": [
    {
     "data": {
      "text/plain": [
       "array([[-1.07313622, -1.28166297],\n",
       "       [-1.02141917, -0.62360356],\n",
       "       [-1.11897678, -1.09539535],\n",
       "       [-1.50621342, -0.66671842],\n",
       "       [-1.93577318, -1.15774501],\n",
       "       [-1.24108841, -0.57215788],\n",
       "       [-1.5247611 , -0.96384939],\n",
       "       [-0.42116712, -1.61426739],\n",
       "       [-0.08415861, -0.12006746],\n",
       "       [-1.117578  , -1.74529104],\n",
       "       [-1.92568759, -0.6701327 ],\n",
       "       [-0.87235666, -0.18489829],\n",
       "       [-1.07474728, -0.31807466],\n",
       "       [-1.52401141, -0.24516358],\n",
       "       [-0.09185074, -1.31804744],\n",
       "       [-1.11700203, -1.82038693],\n",
       "       [-0.65701686, -1.43824813],\n",
       "       [-1.59382029, -0.90353555],\n",
       "       [-1.54695424, -0.78705244],\n",
       "       [-1.66661557, -0.37115359],\n",
       "       [-0.99411016, -1.86654533],\n",
       "       [-0.90865305, -0.5213438 ],\n",
       "       [-1.13850946, -0.02034563],\n",
       "       [-1.04913591, -0.3532893 ],\n",
       "       [-0.84735037, -0.6959799 ],\n",
       "       [-0.85449514, -0.7704087 ],\n",
       "       [-1.77176945, -1.33419429],\n",
       "       [-0.26684479, -0.8518724 ],\n",
       "       [-0.81801964, -0.20439861],\n",
       "       [-1.43011501, -0.32579317],\n",
       "       [-1.69326132, -1.37688717],\n",
       "       [-1.07714591, -1.11736497],\n",
       "       [-0.94422611, -1.21897441],\n",
       "       [-0.19135361, -1.81445002],\n",
       "       [-0.33458496, -1.88695697],\n",
       "       [-0.07109506, -0.81893666],\n",
       "       [-1.78596931, -1.88377508],\n",
       "       [-1.39411832, -0.61052007],\n",
       "       [-0.22443817, -0.23025694],\n",
       "       [-1.30138266, -0.05739212],\n",
       "       [-1.33603792, -0.24328891],\n",
       "       [-0.86807182, -0.7917592 ],\n",
       "       [-1.86306094, -1.36717146],\n",
       "       [-0.86669816, -0.66741888],\n",
       "       [-0.29986368, -1.57567749],\n",
       "       [-0.94521708, -1.68854134],\n",
       "       [-1.25782702, -0.94567724],\n",
       "       [-1.74398661, -0.54610283],\n",
       "       [-0.72631091, -1.29725512],\n",
       "       [-0.38762498, -0.2338163 ],\n",
       "       [ 1.14031442,  1.55603528],\n",
       "       [ 1.43556937,  1.54588728],\n",
       "       [ 1.28825994,  1.53371329],\n",
       "       [ 2.32885133,  1.95851688],\n",
       "       [ 1.15713053,  1.03730528],\n",
       "       [ 2.09472597,  2.44538114],\n",
       "       [ 1.94371391,  2.20083032],\n",
       "       [ 2.81037907,  1.92806882],\n",
       "       [ 1.00052314,  1.4451973 ],\n",
       "       [ 1.92234724,  1.20363126],\n",
       "       [ 1.08110549,  2.94069461],\n",
       "       [ 1.36182134,  2.07844697],\n",
       "       [ 2.54602416,  2.23334911],\n",
       "       [ 2.30218739,  1.44908373],\n",
       "       [ 2.38717918,  1.53605823],\n",
       "       [ 2.2597855 ,  1.66133726],\n",
       "       [ 2.78367585,  2.68242232],\n",
       "       [ 1.29575567,  2.4360956 ],\n",
       "       [ 1.07280204,  2.3081531 ],\n",
       "       [ 1.82592818,  2.18860061],\n",
       "       [ 1.91801586,  2.50825134],\n",
       "       [ 2.83170671,  1.89863758],\n",
       "       [ 1.25642982,  2.57413968],\n",
       "       [ 1.48740352,  1.11083076],\n",
       "       [ 1.26994584,  2.67397699],\n",
       "       [ 2.06361953,  2.61903577],\n",
       "       [ 2.77917857,  1.3360745 ],\n",
       "       [ 2.53909553,  1.14949626],\n",
       "       [ 2.41622856,  2.56004787],\n",
       "       [ 1.83934012,  2.54307375],\n",
       "       [ 2.11611453,  2.40442695],\n",
       "       [ 1.64142953,  2.87731068],\n",
       "       [ 1.14799938,  1.63000663],\n",
       "       [ 1.00008944,  2.23854108],\n",
       "       [ 1.22544441,  1.77207037],\n",
       "       [ 2.79702942,  1.50923831],\n",
       "       [ 1.53266188,  2.28991389],\n",
       "       [ 1.80492094,  1.14910897],\n",
       "       [ 1.06861102,  2.29639239],\n",
       "       [ 2.63599324,  1.01667876],\n",
       "       [ 2.48187391,  1.43264056],\n",
       "       [ 1.27610366,  1.22363089],\n",
       "       [ 2.33714449,  2.21314635],\n",
       "       [ 1.3961475 ,  1.30952643],\n",
       "       [ 1.26906591,  1.4015039 ],\n",
       "       [ 2.35455036,  2.55265046],\n",
       "       [ 2.27236315,  1.38589673],\n",
       "       [ 2.30399968,  2.72829136],\n",
       "       [ 2.68554135,  2.04640586],\n",
       "       [ 1.71231333,  2.31678658]])"
      ]
     },
     "execution_count": 37,
     "metadata": {},
     "output_type": "execute_result"
    }
   ],
   "source": [
    "X"
   ]
  },
  {
   "cell_type": "code",
   "execution_count": 38,
   "metadata": {},
   "outputs": [
    {
     "data": {
      "image/png": "[encoded data removed]",
      "text/plain": [
       "<Figure size 432x288 with 1 Axes>"
      ]
     },
     "metadata": {
      "needs_background": "light"
     },
     "output_type": "display_data"
    }
   ],
   "source": [
    "\n",
    "plt.scatter(X[ : , 0], X[ :, 1], s = 20, color = 'brown')\n",
    "plt.show()"
   ]
  },
  {
   "cell_type": "code",
   "execution_count": 39,
   "metadata": {},
   "outputs": [
    {
     "data": {
      "text/plain": [
       "KMeans(algorithm='auto', copy_x=True, init='k-means++', max_iter=300,\n",
       "       n_clusters=2, n_init=10, n_jobs=None, precompute_distances='auto',\n",
       "       random_state=None, tol=0.0001, verbose=0)"
      ]
     },
     "execution_count": 39,
     "metadata": {},
     "output_type": "execute_result"
    }
   ],
   "source": [
    "Kmean = KMeans(n_clusters=2)\n",
    "\n",
    "Kmean.fit(X)"
   ]
  },
  {
   "cell_type": "code",
   "execution_count": 40,
   "metadata": {},
   "outputs": [
    {
     "data": {
      "text/plain": [
       "array([[ 1.86996882,  1.9427308 ],\n",
       "       [-1.05011224, -0.90427692]])"
      ]
     },
     "execution_count": 40,
     "metadata": {},
     "output_type": "execute_result"
    }
   ],
   "source": [
    "Kmean.cluster_centers_"
   ]
  },
  {
   "cell_type": "code",
   "execution_count": 41,
   "metadata": {},
   "outputs": [
    {
     "data": {
      "image/png": "[encoded data removed]",
      "text/plain": [
       "<Figure size 432x288 with 1 Axes>"
      ]
     },
     "metadata": {
      "needs_background": "light"
     },
     "output_type": "display_data"
    }
   ],
   "source": [
    "plt.scatter(X[ : , 0], X[ : , 1], s =50)\n",
    "plt.scatter(Kmean.cluster_centers_[0][0], Kmean.cluster_centers_[0][1], s=200, color='green')\n",
    "plt.scatter(Kmean.cluster_centers_[1][0], Kmean.cluster_centers_[1][1], s=200, color='blue')\n",
    "#plt.scatter(Kmean.cluster_centers_[2][0], Kmean.cluster_centers_[2][1], s=200, color='BLUE')\n",
    "#plt.scatter(Kmean.cluster_centers_[3][0], Kmean.cluster_centers_[3][1], s=200, color='BROWN')\n",
    "plt.show()"
   ]
  },
  {
   "cell_type": "code",
   "execution_count": 42,
   "metadata": {},
   "outputs": [
    {
     "data": {
      "text/plain": [
       "array([[2.35455036, 2.55265046],\n",
       "       [2.27236315, 1.38589673],\n",
       "       [2.30399968, 2.72829136],\n",
       "       [2.68554135, 2.04640586],\n",
       "       [1.71231333, 2.31678658]])"
      ]
     },
     "execution_count": 42,
     "metadata": {},
     "output_type": "execute_result"
    }
   ],
   "source": [
    "X[-5:]"
   ]
  },
  {
   "cell_type": "code",
   "execution_count": 44,
   "metadata": {
    "scrolled": true
   },
   "outputs": [
    {
     "data": {
      "text/plain": [
       "array([1, 1, 1, 1, 1, 1, 1, 1, 1, 1, 1, 1, 1, 1, 1, 1, 1, 1, 1, 1, 1, 1,\n",
       "       1, 1, 1, 1, 1, 1, 1, 1, 1, 1, 1, 1, 1, 1, 1, 1, 1, 1, 1, 1, 1, 1,\n",
       "       1, 1, 1, 1, 1, 1, 0, 0, 0, 0, 0, 0, 0, 0, 0, 0, 0, 0, 0, 0, 0, 0,\n",
       "       0, 0, 0, 0, 0, 0, 0, 0, 0, 0, 0, 0, 0, 0, 0, 0, 0, 0, 0, 0, 0, 0,\n",
       "       0, 0, 0, 0, 0, 0, 0, 0, 0, 0, 0, 0])"
      ]
     },
     "execution_count": 44,
     "metadata": {},
     "output_type": "execute_result"
    }
   ],
   "source": [
    "Kmean.labels_"
   ]
  },
  {
   "cell_type": "code",
   "execution_count": 45,
   "metadata": {},
   "outputs": [
    {
     "data": {
      "text/plain": [
       "array([0])"
      ]
     },
     "execution_count": 45,
     "metadata": {},
     "output_type": "execute_result"
    }
   ],
   "source": [
    "Kmean.predict([[3,1.5]])"
   ]
  },
  {
   "cell_type": "code",
   "execution_count": 46,
   "metadata": {},
   "outputs": [
    {
     "data": {
      "text/plain": [
       "61.75072120601679"
      ]
     },
     "execution_count": 46,
     "metadata": {},
     "output_type": "execute_result"
    }
   ],
   "source": [
    "#Inertia can be recognized as a measure of how internally coherent clusters are\n",
    "\n",
    "Kmean.inertia_"
   ]
  },
  {
   "cell_type": "markdown",
   "metadata": {},
   "source": [
    "#### With this example it was obvious to say that the K value will be equal to 2\n",
    "\n",
    "#### But other times it's not just as clear as it seems One way is to try just all diff values for K"
   ]
  },
  {
   "cell_type": "code",
   "execution_count": 47,
   "metadata": {},
   "outputs": [
    {
     "data": {
      "image/png": "[encoded data removed]",
      "text/plain": [
       "<Figure size 432x288 with 1 Axes>"
      ]
     },
     "metadata": {
      "needs_background": "light"
     },
     "output_type": "display_data"
    }
   ],
   "source": [
    "X= -2 * np.random.rand(100,2)\n",
    "plt.scatter(X[ : , 0], X[ :, 1], s = 50)\n",
    "plt.show()"
   ]
  },
  {
   "cell_type": "code",
   "execution_count": 48,
   "metadata": {},
   "outputs": [
    {
     "name": "stdout",
     "output_type": "stream",
     "text": [
      "Initialization complete\n",
      "start iteration\n",
      "done sorting\n",
      "end inner loop\n",
      "Iteration 0, inertia 15.226932793510484\n",
      "start iteration\n",
      "done sorting\n",
      "end inner loop\n",
      "Iteration 1, inertia 13.884229681589632\n",
      "start iteration\n",
      "done sorting\n",
      "end inner loop\n",
      "Iteration 2, inertia 13.79424680552534\n",
      "start iteration\n",
      "done sorting\n",
      "end inner loop\n",
      "Iteration 3, inertia 13.742259317051477\n",
      "start iteration\n",
      "done sorting\n",
      "end inner loop\n",
      "Iteration 4, inertia 13.742259317051477\n",
      "center shift 0.000000e+00 within tolerance 3.106711e-05\n",
      "Initialization complete\n",
      "start iteration\n",
      "done sorting\n",
      "end inner loop\n",
      "Iteration 0, inertia 15.17084046948934\n",
      "start iteration\n",
      "done sorting\n",
      "end inner loop\n",
      "Iteration 1, inertia 13.996898911888632\n",
      "start iteration\n",
      "done sorting\n",
      "end inner loop\n",
      "Iteration 2, inertia 13.892179046659422\n",
      "start iteration\n",
      "done sorting\n",
      "end inner loop\n",
      "Iteration 3, inertia 13.762567970914526\n",
      "start iteration\n",
      "done sorting\n",
      "end inner loop\n",
      "Iteration 4, inertia 13.742259317051477\n",
      "start iteration\n",
      "done sorting\n",
      "end inner loop\n",
      "Iteration 5, inertia 13.742259317051477\n",
      "center shift 0.000000e+00 within tolerance 3.106711e-05\n",
      "Initialization complete\n",
      "start iteration\n",
      "done sorting\n",
      "end inner loop\n",
      "Iteration 0, inertia 19.308762844598427\n",
      "start iteration\n",
      "done sorting\n",
      "end inner loop\n",
      "Iteration 1, inertia 14.860322725318149\n",
      "start iteration\n",
      "done sorting\n",
      "end inner loop\n",
      "Iteration 2, inertia 14.004320063845952\n",
      "start iteration\n",
      "done sorting\n",
      "end inner loop\n",
      "Iteration 3, inertia 13.742259317051477\n",
      "start iteration\n",
      "done sorting\n",
      "end inner loop\n",
      "Iteration 4, inertia 13.742259317051477\n",
      "center shift 0.000000e+00 within tolerance 3.106711e-05\n",
      "Initialization complete\n",
      "start iteration\n",
      "done sorting\n",
      "end inner loop\n",
      "Iteration 0, inertia 18.889446643691258\n",
      "start iteration\n",
      "done sorting\n",
      "end inner loop\n",
      "Iteration 1, inertia 14.58354892060423\n",
      "start iteration\n",
      "done sorting\n",
      "end inner loop\n",
      "Iteration 2, inertia 13.79424680552534\n",
      "start iteration\n",
      "done sorting\n",
      "end inner loop\n",
      "Iteration 3, inertia 13.742259317051477\n",
      "start iteration\n",
      "done sorting\n",
      "end inner loop\n",
      "Iteration 4, inertia 13.742259317051477\n",
      "center shift 0.000000e+00 within tolerance 3.106711e-05\n",
      "Initialization complete\n",
      "start iteration\n",
      "done sorting\n",
      "end inner loop\n",
      "Iteration 0, inertia 16.028059304080458\n",
      "start iteration\n",
      "done sorting\n",
      "end inner loop\n",
      "Iteration 1, inertia 14.382239665544642\n",
      "start iteration\n",
      "done sorting\n",
      "end inner loop\n",
      "Iteration 2, inertia 13.950125988937204\n",
      "start iteration\n",
      "done sorting\n",
      "end inner loop\n",
      "Iteration 3, inertia 13.90085074341712\n",
      "start iteration\n",
      "done sorting\n",
      "end inner loop\n",
      "Iteration 4, inertia 13.818118664775348\n",
      "start iteration\n",
      "done sorting\n",
      "end inner loop\n",
      "Iteration 5, inertia 13.791129860965986\n",
      "start iteration\n",
      "done sorting\n",
      "end inner loop\n",
      "Iteration 6, inertia 13.791129860965986\n",
      "center shift 0.000000e+00 within tolerance 3.106711e-05\n",
      "Initialization complete\n",
      "start iteration\n",
      "done sorting\n",
      "end inner loop\n",
      "Iteration 0, inertia 23.052207962447945\n",
      "start iteration\n",
      "done sorting\n",
      "end inner loop\n",
      "Iteration 1, inertia 19.737654783021263\n",
      "start iteration\n",
      "done sorting\n",
      "end inner loop\n",
      "Iteration 2, inertia 15.204927603941334\n",
      "start iteration\n",
      "done sorting\n",
      "end inner loop\n",
      "Iteration 3, inertia 13.88096521517259\n",
      "start iteration\n",
      "done sorting\n",
      "end inner loop\n",
      "Iteration 4, inertia 13.742259317051477\n",
      "start iteration\n",
      "done sorting\n",
      "end inner loop\n",
      "Iteration 5, inertia 13.742259317051477\n",
      "center shift 0.000000e+00 within tolerance 3.106711e-05\n",
      "Initialization complete\n",
      "start iteration\n",
      "done sorting\n",
      "end inner loop\n",
      "Iteration 0, inertia 18.281561262550458\n",
      "start iteration\n",
      "done sorting\n",
      "end inner loop\n",
      "Iteration 1, inertia 15.212735818600578\n",
      "start iteration\n",
      "done sorting\n",
      "end inner loop\n",
      "Iteration 2, inertia 14.089490202722814\n",
      "start iteration\n",
      "done sorting\n",
      "end inner loop\n",
      "Iteration 3, inertia 13.911261869150346\n",
      "start iteration\n",
      "done sorting\n",
      "end inner loop\n",
      "Iteration 4, inertia 13.844255994779415\n",
      "start iteration\n",
      "done sorting\n",
      "end inner loop\n",
      "Iteration 5, inertia 13.762567970914526\n",
      "start iteration\n",
      "done sorting\n",
      "end inner loop\n",
      "Iteration 6, inertia 13.742259317051477\n",
      "start iteration\n",
      "done sorting\n",
      "end inner loop\n",
      "Iteration 7, inertia 13.742259317051477\n",
      "center shift 0.000000e+00 within tolerance 3.106711e-05\n",
      "Initialization complete\n",
      "start iteration\n",
      "done sorting\n",
      "end inner loop\n",
      "Iteration 0, inertia 14.636124820049265\n",
      "start iteration\n",
      "done sorting\n",
      "end inner loop\n",
      "Iteration 1, inertia 14.02860525322708\n",
      "start iteration\n",
      "done sorting\n",
      "end inner loop\n",
      "Iteration 2, inertia 13.742259317051477\n",
      "start iteration\n",
      "done sorting\n",
      "end inner loop\n",
      "Iteration 3, inertia 13.742259317051477\n",
      "center shift 0.000000e+00 within tolerance 3.106711e-05\n",
      "Initialization complete\n",
      "start iteration\n",
      "done sorting\n",
      "end inner loop\n",
      "Iteration 0, inertia 14.882808317929442\n",
      "start iteration\n",
      "done sorting\n",
      "end inner loop\n",
      "Iteration 1, inertia 14.200504358902355\n",
      "start iteration\n",
      "done sorting\n",
      "end inner loop\n",
      "Iteration 2, inertia 13.960569343382979\n",
      "start iteration\n",
      "done sorting\n",
      "end inner loop\n",
      "Iteration 3, inertia 13.874467217966803\n",
      "start iteration\n",
      "done sorting\n",
      "end inner loop\n",
      "Iteration 4, inertia 13.818118664775348\n",
      "start iteration\n",
      "done sorting\n",
      "end inner loop\n",
      "Iteration 5, inertia 13.791129860965986\n",
      "start iteration\n",
      "done sorting\n",
      "end inner loop\n",
      "Iteration 6, inertia 13.791129860965986\n",
      "center shift 0.000000e+00 within tolerance 3.106711e-05\n",
      "Initialization complete\n",
      "start iteration\n",
      "done sorting\n",
      "end inner loop\n",
      "Iteration 0, inertia 17.097167229518263\n",
      "start iteration\n",
      "done sorting\n",
      "end inner loop\n",
      "Iteration 1, inertia 14.341232921991873\n",
      "start iteration\n",
      "done sorting\n",
      "end inner loop\n",
      "Iteration 2, inertia 13.742259317051477\n",
      "start iteration\n",
      "done sorting\n",
      "end inner loop\n",
      "Iteration 3, inertia 13.742259317051477\n",
      "center shift 0.000000e+00 within tolerance 3.106711e-05\n"
     ]
    },
    {
     "data": {
      "text/plain": [
       "KMeans(algorithm='auto', copy_x=True, init='k-means++', max_iter=300,\n",
       "       n_clusters=4, n_init=10, n_jobs=None, precompute_distances='auto',\n",
       "       random_state=None, tol=0.0001, verbose=1)"
      ]
     },
     "execution_count": 48,
     "metadata": {},
     "output_type": "execute_result"
    }
   ],
   "source": [
    "Kmean = KMeans(n_clusters=4,verbose=1)\n",
    "Kmean.fit(X)"
   ]
  },
  {
   "cell_type": "code",
   "execution_count": 49,
   "metadata": {},
   "outputs": [],
   "source": [
    "labels = Kmean.labels_"
   ]
  },
  {
   "cell_type": "code",
   "execution_count": 50,
   "metadata": {},
   "outputs": [
    {
     "data": {
      "text/plain": [
       "array([[-0.41183174, -1.57489261],\n",
       "       [-1.39748949, -0.35563471],\n",
       "       [-1.32678615, -1.35330153],\n",
       "       [-0.43582841, -0.52026678]])"
      ]
     },
     "execution_count": 50,
     "metadata": {},
     "output_type": "execute_result"
    }
   ],
   "source": [
    "\n",
    "Kmean.cluster_centers_"
   ]
  },
  {
   "cell_type": "code",
   "execution_count": 51,
   "metadata": {},
   "outputs": [
    {
     "data": {
      "image/png": "[encoded data removed]",
      "text/plain": [
       "<Figure size 432x288 with 1 Axes>"
      ]
     },
     "metadata": {
      "needs_background": "light"
     },
     "output_type": "display_data"
    }
   ],
   "source": [
    "plt.scatter(X[ : , 0], X[ :, 1], s = 50)\n",
    "plt.scatter(Kmean.cluster_centers_[0][0], Kmean.cluster_centers_[0][1], s=200, color='green')\n",
    "plt.scatter(Kmean.cluster_centers_[1][0], Kmean.cluster_centers_[1][1], s=200, color='red')\n",
    "plt.scatter(Kmean.cluster_centers_[2][0], Kmean.cluster_centers_[2][1], s=200, color='BLUE')\n",
    "plt.scatter(Kmean.cluster_centers_[3][0], Kmean.cluster_centers_[3][1], s=200, color='BROWN')\n",
    "plt.show()"
   ]
  },
  {
   "cell_type": "code",
   "execution_count": 52,
   "metadata": {},
   "outputs": [
    {
     "data": {
      "text/plain": [
       "13.742259317051477"
      ]
     },
     "execution_count": 52,
     "metadata": {},
     "output_type": "execute_result"
    }
   ],
   "source": [
    "Kmean.inertia_"
   ]
  },
  {
   "cell_type": "code",
   "execution_count": 53,
   "metadata": {},
   "outputs": [
    {
     "data": {
      "text/plain": [
       "KMeans(algorithm='auto', copy_x=True, init='k-means++', max_iter=300,\n",
       "       n_clusters=2, n_init=10, n_jobs=None, precompute_distances='auto',\n",
       "       random_state=None, tol=0.0001, verbose=0)"
      ]
     },
     "execution_count": 53,
     "metadata": {},
     "output_type": "execute_result"
    }
   ],
   "source": [
    "Kmean = KMeans(n_clusters=2)\n",
    "Kmean.fit(X)"
   ]
  },
  {
   "cell_type": "code",
   "execution_count": 54,
   "metadata": {},
   "outputs": [
    {
     "data": {
      "text/plain": [
       "array([[-1.00708654, -0.48151829],\n",
       "       [-0.89349707, -1.51766135]])"
      ]
     },
     "execution_count": 54,
     "metadata": {},
     "output_type": "execute_result"
    }
   ],
   "source": [
    "\n",
    "labels = Kmean.labels_\n",
    "Kmean.cluster_centers_"
   ]
  },
  {
   "cell_type": "code",
   "execution_count": 55,
   "metadata": {},
   "outputs": [
    {
     "data": {
      "image/png": "[encoded data removed]",
      "text/plain": [
       "<Figure size 432x288 with 1 Axes>"
      ]
     },
     "metadata": {
      "needs_background": "light"
     },
     "output_type": "display_data"
    }
   ],
   "source": [
    "plt.scatter(X[ : , 0], X[ : , 1], s =50, c=labels)\n",
    "plt.scatter(Kmean.cluster_centers_[0][0], Kmean.cluster_centers_[0][1], s=200, color='green')\n",
    "plt.scatter(Kmean.cluster_centers_[1][0], Kmean.cluster_centers_[1][1], s=200, color='red')\n",
    "\n",
    "plt.show()"
   ]
  },
  {
   "cell_type": "code",
   "execution_count": 56,
   "metadata": {},
   "outputs": [
    {
     "data": {
      "text/plain": [
       "35.667201287416965"
      ]
     },
     "execution_count": 56,
     "metadata": {},
     "output_type": "execute_result"
    }
   ],
   "source": [
    "Kmean.inertia_"
   ]
  },
  {
   "cell_type": "code",
   "execution_count": null,
   "metadata": {},
   "outputs": [],
   "source": []
  }
 ],
 "metadata": {
  "kernelspec": {
   "display_name": "Python 3",
   "language": "python",
   "name": "python3"
  },
  "language_info": {
   "codemirror_mode": {
    "name": "ipython",
    "version": 3
   },
   "file_extension": ".py",
   "mimetype": "text/x-python",
   "name": "python",
   "nbconvert_exporter": "python",
   "pygments_lexer": "ipython3",
   "version": "3.7.4"
  }
 },
 "nbformat": 4,
 "nbformat_minor": 2
}
